{
 "cells": [
  {
   "cell_type": "code",
   "execution_count": null,
   "id": "0812c864-11b4-4a95-8945-853d63c6b5a6",
   "metadata": {},
   "outputs": [],
   "source": [
    "from ablm_eval import (\n",
    "    PerPositionConfig,\n",
    "    DatasetColumns,\n",
    "    evaluate_ablms,\n",
    ")"
   ]
  },
  {
   "cell_type": "code",
   "execution_count": null,
   "id": "cee0eb6b-fb18-45b5-ae07-182a971e0367",
   "metadata": {},
   "outputs": [],
   "source": [
    "# define models\n",
    "models = {\n",
    "    \"8M-F\": \"/home/jovyan/shared/mahdi/1_projects/model_optimization/01all_esm_models/deepspeed/esm/all_checkpoints_4good/esm_8M_full_batch_128_2025-02-10/checkpoint-500000\",\n",
    "    \"35M-F\": \"/home/jovyan/shared/mahdi/1_projects/model_optimization/01all_esm_models/deepspeed/esm/all_checkpoints_4good/esm_35M_full_batch_128_2025-02-10/checkpoint-500000\",\n",
    "    \"150M-F\": \"/home/jovyan/shared/mahdi/1_projects/model_optimization/01all_esm_models/deepspeed/esm/all_checkpoints_4good/esm_150M_full_batch_128_2025-02-11/checkpoint-500000\",\n",
    "    \"350M-F\": \"/home/jovyan/shared/mahdi/1_projects/model_optimization/01all_esm_models/deepspeed/esm/all_checkpoints_4good/esm_350M_full_batch_128_2025-01-29/checkpoint-500000\",\n",
    "    \"650M-F\": \"/home/jovyan/shared/mahdi/1_projects/model_optimization/01all_esm_models/deepspeed/esm/all_checkpoints_4good/esm_650M_full_batch_128_2025-01-29/checkpoint-395000\",\n",
    "}"
   ]
  },
  {
   "cell_type": "code",
   "execution_count": null,
   "id": "51c32302-2daa-461c-ad3f-445ff5a7f30f",
   "metadata": {},
   "outputs": [],
   "source": [
    "# define tasks with unmutated and mutated datasets\n",
    "configs = [\n",
    "    PerPositionConfig(\n",
    "        dataset_name=\"unmutated\",\n",
    "        antibody_datatype=\"paired\",\n",
    "        data_path=\"./data/unmutated_donors-combined.csv\",\n",
    "        separator=\"<cls><cls>\",\n",
    "        tokenizer_path=\"facebook/esm2_t12_35M_UR50D\",\n",
    "        dataset_columns=DatasetColumns(\n",
    "            cdr_columns=[\"cdr_mask_aa_heavy\", \"cdr_mask_aa_light\"]\n",
    "        ),\n",
    "        keep_columns=[\"donor\"]\n",
    "    ),\n",
    "    PerPositionConfig(\n",
    "        dataset_name=\"mutated\",\n",
    "        antibody_datatype=\"paired\",\n",
    "        data_path=\"./data/mutated_donors-combined.csv\",\n",
    "        separator=\"<cls><cls>\",\n",
    "        tokenizer_path=\"facebook/esm2_t12_35M_UR50D\",\n",
    "        dataset_columns=DatasetColumns(\n",
    "            cdr_columns=[\"cdr_mask_aa_heavy\", \"cdr_mask_aa_light\"]\n",
    "        ),\n",
    "        keep_columns=[\"donor\"]\n",
    "    )\n",
    "]\n",
    "len(configs)"
   ]
  },
  {
   "cell_type": "code",
   "execution_count": null,
   "id": "c89d4df6-51dd-45c8-b000-97973a0aa471",
   "metadata": {},
   "outputs": [],
   "source": [
    "# run evaluation\n",
    "evaluate_ablms(\n",
    "    models,\n",
    "    configs,\n",
    "    shared_output_dir=\"./results/\",\n",
    "    ignore_existing_files=True,\n",
    ")"
   ]
  },
  {
   "cell_type": "code",
   "execution_count": null,
   "id": "7323c317-a32b-4ab8-a044-b915552d73ee",
   "metadata": {},
   "outputs": [],
   "source": []
  }
 ],
 "metadata": {
  "kernelspec": {
   "display_name": "Python 3 (ipykernel)",
   "language": "python",
   "name": "python3"
  },
  "language_info": {
   "codemirror_mode": {
    "name": "ipython",
    "version": 3
   },
   "file_extension": ".py",
   "mimetype": "text/x-python",
   "name": "python",
   "nbconvert_exporter": "python",
   "pygments_lexer": "ipython3",
   "version": "3.11.10"
  }
 },
 "nbformat": 4,
 "nbformat_minor": 5
}

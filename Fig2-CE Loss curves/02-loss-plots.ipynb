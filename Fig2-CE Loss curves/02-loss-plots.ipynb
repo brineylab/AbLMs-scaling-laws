import matplotlib.pyplot as plt
import numpy as np
import seaborn as sns

# ——— Data ———
parameters = [8e6, 35e6, 150e6, 350e6, 650e6]
parameters_labels = ['8M', '35M', '150M', '350M', '650M']
datasets = ["Quarter Data", "Half Data", "Full Data"]

evaluation_losses = {
    "Quarter Data": [0.2932, 0.2920, 0.2937, 0.2938, 0.2942],
    "Half Data":    [0.2925, 0.2884, 0.2902, 0.2905, 0.2895],
    "Full Data":    [0.2903, 0.2868, 0.2857, 0.2859, 0.2866],
}

# ——— Which points to fit on and to plot? ———
subset_indices = {
    "Quarter Data": slice(0, 3),   # keep only 8M, 35M, 150M
    "Half Data":    slice(0, 4),   # keep only 8M, 35M, 150M, 350M
    "Full Data":    slice(1, None), # keep only 35M,150M,350M,650M
}

# ——— Fit & find minimum-in-range ———
min_loss_points = {}
for ds in datasets:
    idx = subset_indices[ds]
    ps = np.array(parameters)[idx]
    ls = np.array(evaluation_losses[ds])[idx]
    logp = np.log10(ps)

    # 2nd-degree fit
    coeffs = np.polyfit(logp, ls, deg=2)
    a, b, c = coeffs
    poly = np.poly1d(coeffs)

    # Find minimum within the fitted interval
    if abs(a) < 1e-9: # Essentially linear
        ends = [poly(logp[0]), poly(logp[-1])]
        i_min = np.argmin(ends)
        # Use the parameter corresponding to the minimum loss end
        min_p, min_l = (ps[0], ends[0]) if i_min == 0 else (ps[-1], ends[1])
    elif a > 0: # Parabola opens upwards, minimum exists
        logp_min = -b / (2 * a)
        # Check if the theoretical minimum is within the fitted range
        if logp_min < logp[0]:
            min_p, min_l = ps[0], poly(logp[0])
        elif logp_min > logp[-1]:
             min_p, min_l = ps[-1], poly(logp[-1])
        else:
             min_p, min_l = 10**logp_min, poly(logp_min)
    else: # Parabola opens downwards, minimum is at one end
        loss_start, loss_end = poly(logp[0]), poly(logp[-1])
        if loss_start < loss_end:
            min_p, min_l = ps[0], loss_start
        else:
            min_p, min_l = ps[-1], loss_end

    min_loss_points[ds] = {
        'coeffs': coeffs,
        'logp_fit': logp,
        'min_param': min_p,
        'min_loss':  min_l
    }

# ——— Plot ———
sns.set_context("notebook")
palette = dict(zip(datasets[::-1],
                   sns.color_palette("colorblind", 3).as_hex()))

plt.figure(figsize=(10, 7))
for ds in datasets:
    idx = subset_indices[ds]
    ps = np.array(parameters)[idx]
    ls = np.array(evaluation_losses[ds])[idx]
    lp = min_loss_points[ds]['logp_fit']
    a, b, c = min_loss_points[ds]['coeffs']
    poly = np.poly1d((a, b, c))

    # plot only the subset of raw points (NO LABEL for legend)
    plt.scatter(ps, ls,
                color=palette[ds], s=50) # Removed label

    # fitted curve over exactly those points
    smooth = np.linspace(lp.min(), lp.max(), 200)
    plt.plot(10**smooth, poly(smooth),
             color=palette[ds], linewidth=2,
             label=f"{ds}") # MODIFIED label

    # mark the minimum within that interval
    mp = min_loss_points[ds]['min_param']
    ml = min_loss_points[ds]['min_loss']
    plt.scatter([mp], [ml],
                marker='v', edgecolor='black',
                s=100, color=palette[ds], zorder=5)

# cosmetics
plt.xscale("log")
plt.xticks(parameters, parameters_labels, fontsize=14)
plt.xlabel("Model Size (Parameters)", fontsize=16)
plt.ylabel("Test Loss", fontsize=18)
plt.tick_params(axis='y', labelsize=14)
# MODIFIED legend position and removed dot explanations
plt.legend(fontsize=12, title="Legend", title_fontsize=13, loc='lower left')
plt.grid(which="both", linestyle="--", linewidth=0.5)
plt.tight_layout()
plt.savefig('lossـreg.png', dpi=300, bbox_inches='tight')
plt.show() 

{
 "cells": [
  {
   "cell_type": "markdown",
   "id": "d1e0f4b4-7cde-44bf-9a0a-03726c4c7ef3",
   "metadata": {},
   "source": [
    "# CoV vs Influenza vs HD Classification"
   ]
  },
  {
   "cell_type": "code",
   "execution_count": 1,
   "id": "3379dc9d-e83a-4644-b674-a16632c75503",
   "metadata": {},
   "outputs": [],
   "source": [
    "import glob\n",
    "from pathlib import Path\n",
    "from tqdm.notebook import tqdm\n",
    "\n",
    "import torch\n",
    "from transformers import (\n",
    "    EsmTokenizer,\n",
    "    AutoModelForSequenceClassification,\n",
    "    Trainer,\n",
    "    TrainingArguments,\n",
    ")\n",
    "import datasets\n",
    "from datasets import ClassLabel\n",
    "\n",
    "import pandas as pd\n",
    "import numpy as np\n",
    "\n",
    "from sklearn.metrics import confusion_matrix\n",
    "import seaborn as sns\n",
    "import matplotlib.pyplot as plt"
   ]
  },
  {
   "cell_type": "markdown",
   "id": "8ff5a9d1-0ec8-4c33-86ac-9c09c1192e2f",
   "metadata": {},
   "source": [
    "## load results"
   ]
  },
  {
   "cell_type": "code",
   "execution_count": 2,
   "id": "f9ffb393-8bbd-44c6-a70a-7b66ef9a67d8",
   "metadata": {},
   "outputs": [
    {
     "data": {
      "text/plain": [
       "15"
      ]
     },
     "execution_count": 2,
     "metadata": {},
     "output_type": "execute_result"
    }
   ],
   "source": [
    "path = \"/home/jovyan/shared/mahdi/1_projects/model_optimization/07HDvsFluvsCov/results/*.csv\"\n",
    "files = glob.glob(path)\n",
    "len(files)"
   ]
  },
  {
   "cell_type": "code",
   "execution_count": 3,
   "id": "1e5d937c-fa0d-4824-b8ba-e6bf5d813492",
   "metadata": {},
   "outputs": [],
   "source": [
    "dataset_map = {\n",
    "    'full': 'F',\n",
    "    'half': 'H',\n",
    "    'quarter': 'Q'\n",
    "}\n",
    "def combine_stats(list_of_paths):\n",
    "    # read all results files and combine\n",
    "    dfs = []\n",
    "    for path in list_of_paths:\n",
    "        tmp = pd.read_csv(path)\n",
    "\n",
    "        # remove precalculated mean and std\n",
    "        tmp = tmp[:-2]\n",
    "\n",
    "        # get model name\n",
    "        tmp[\"model\"] = Path(path).stem\n",
    "        \n",
    "        dfs.append(tmp)\n",
    "    \n",
    "    df = pd.concat(dfs).reset_index(drop=True)\n",
    "    \n",
    "    df['dataset'] = df['model'].str.split('_').str[2].map(dataset_map)\n",
    "    df['model_size'] = df['model'].str.split('_').str[1].str.replace('M', '').astype(int)\n",
    "\n",
    "    # get means and errors\n",
    "    means = df.groupby([\"model_size\", \"dataset\"]).mean(numeric_only=True)\n",
    "    sem = df.groupby([\"model_size\", \"dataset\"]).sem(numeric_only=True)\n",
    "\n",
    "    # combine in a readable table format\n",
    "    combined = means.copy()\n",
    "    for i in means.index:\n",
    "        for j in [col for col in means.columns if \"test\" in col]:\n",
    "            combined.loc[i,j] = f\"{str(round(means.loc[i,j], 4))} (\\xB1 {str(round(sem.loc[i,j], 4))})\"\n",
    "\n",
    "    return df, combined"
   ]
  },
  {
   "cell_type": "code",
   "execution_count": 4,
   "id": "315e16f4-25b3-419a-8c97-0b9b9dfe8b50",
   "metadata": {
    "scrolled": true
   },
   "outputs": [],
   "source": [
    "full_df, summary = combine_stats(files)"
   ]
  },
  {
   "cell_type": "markdown",
   "id": "db3ba98d-2613-44f7-beb0-c85caf79b0b0",
   "metadata": {},
   "source": [
    "## summary of Dataset-F results"
   ]
  },
  {
   "cell_type": "code",
   "execution_count": 5,
   "id": "2a2d128c-58a3-4ba1-924d-da8d71fa6134",
   "metadata": {},
   "outputs": [
    {
     "data": {
      "application/vnd.microsoft.datawrangler.viewer.v0+json": {
       "columns": [
        {
         "name": "model_size",
         "rawType": "int64",
         "type": "integer"
        },
        {
         "name": "itr",
         "rawType": "float64",
         "type": "float"
        },
        {
         "name": "test_loss",
         "rawType": "object",
         "type": "string"
        },
        {
         "name": "test_accuracy",
         "rawType": "object",
         "type": "string"
        },
        {
         "name": "test_macro-precision",
         "rawType": "object",
         "type": "string"
        },
        {
         "name": "test_macro-recall",
         "rawType": "object",
         "type": "string"
        },
        {
         "name": "test_macro-f1",
         "rawType": "object",
         "type": "string"
        },
        {
         "name": "test_micro-precision",
         "rawType": "object",
         "type": "string"
        },
        {
         "name": "test_micro-recall",
         "rawType": "object",
         "type": "string"
        },
        {
         "name": "test_micro-f1",
         "rawType": "object",
         "type": "string"
        },
        {
         "name": "mcc",
         "rawType": "float64",
         "type": "float"
        },
        {
         "name": "test_mcc",
         "rawType": "object",
         "type": "string"
        },
        {
         "name": "test_runtime",
         "rawType": "object",
         "type": "string"
        },
        {
         "name": "test_samples_per_second",
         "rawType": "object",
         "type": "string"
        },
        {
         "name": "test_steps_per_second",
         "rawType": "object",
         "type": "string"
        }
       ],
       "ref": "02d28504-d900-4472-92d1-392bd96f22cb",
       "rows": [
        [
         "8",
         "2.0",
         "0.8927 (± 0.0051)",
         "0.6073 (± 0.0021)",
         "0.6232 (± 0.004)",
         "0.6073 (± 0.0021)",
         "0.6059 (± 0.0023)",
         "0.6073 (± 0.0021)",
         "0.6073 (± 0.0021)",
         "0.6073 (± 0.0021)",
         null,
         "0.4171 (± 0.0032)",
         "1.0579 (± 0.0149)",
         "832.1198 (± 11.9669)",
         "26.4884 (± 0.3798)"
        ],
        [
         "35",
         "2.0",
         "0.8259 (± 0.0085)",
         "0.6257 (± 0.0058)",
         "0.6464 (± 0.0048)",
         "0.6257 (± 0.0058)",
         "0.6257 (± 0.0057)",
         "0.6257 (± 0.0058)",
         "0.6257 (± 0.0058)",
         "0.6257 (± 0.0058)",
         null,
         "0.4462 (± 0.008)",
         "1.8451 (± 0.0792)",
         "480.176 (± 20.1902)",
         "15.2852 (± 0.6429)"
        ],
        [
         "150",
         "2.0",
         "0.7704 (± 0.0061)",
         "0.6583 (± 0.0046)",
         "0.6729 (± 0.0032)",
         "0.6583 (± 0.0046)",
         "0.6583 (± 0.0049)",
         "0.6583 (± 0.0046)",
         "0.6583 (± 0.0046)",
         "0.6583 (± 0.0046)",
         null,
         "0.4932 (± 0.0052)",
         "4.1901 (± 0.1079)",
         "210.5028 (± 5.6069)",
         "6.7006 (± 0.1779)"
        ],
        [
         "350",
         "2.0",
         "0.7237 (± 0.004)",
         "0.6762 (± 0.0022)",
         "0.6847 (± 0.0031)",
         "0.6762 (± 0.0021)",
         "0.6768 (± 0.0027)",
         "0.6762 (± 0.0022)",
         "0.6762 (± 0.0022)",
         "0.6762 (± 0.0022)",
         null,
         "0.5172 (± 0.0028)",
         "5.266 (± 0.0207)",
         "167.0464 (± 0.7006)",
         "5.3172 (± 0.0209)"
        ],
        [
         "650",
         "2.0",
         "0.7497 (± 0.0083)",
         "0.6612 (± 0.0072)",
         "0.6635 (± 0.0089)",
         "0.6612 (± 0.0072)",
         "0.6617 (± 0.0079)",
         "0.6612 (± 0.0072)",
         "0.6612 (± 0.0072)",
         "0.6612 (± 0.0072)",
         null,
         "0.4923 (± 0.0109)",
         "8.2329 (± 0.0412)",
         "106.8508 (± 0.55)",
         "3.4014 (± 0.0171)"
        ]
       ],
       "shape": {
        "columns": 14,
        "rows": 5
       }
      },
      "text/html": [
       "<div>\n",
       "<style scoped>\n",
       "    .dataframe tbody tr th:only-of-type {\n",
       "        vertical-align: middle;\n",
       "    }\n",
       "\n",
       "    .dataframe tbody tr th {\n",
       "        vertical-align: top;\n",
       "    }\n",
       "\n",
       "    .dataframe thead th {\n",
       "        text-align: right;\n",
       "    }\n",
       "</style>\n",
       "<table border=\"1\" class=\"dataframe\">\n",
       "  <thead>\n",
       "    <tr style=\"text-align: right;\">\n",
       "      <th></th>\n",
       "      <th>itr</th>\n",
       "      <th>test_loss</th>\n",
       "      <th>test_accuracy</th>\n",
       "      <th>test_macro-precision</th>\n",
       "      <th>test_macro-recall</th>\n",
       "      <th>test_macro-f1</th>\n",
       "      <th>test_micro-precision</th>\n",
       "      <th>test_micro-recall</th>\n",
       "      <th>test_micro-f1</th>\n",
       "      <th>mcc</th>\n",
       "      <th>test_mcc</th>\n",
       "      <th>test_runtime</th>\n",
       "      <th>test_samples_per_second</th>\n",
       "      <th>test_steps_per_second</th>\n",
       "    </tr>\n",
       "    <tr>\n",
       "      <th>model_size</th>\n",
       "      <th></th>\n",
       "      <th></th>\n",
       "      <th></th>\n",
       "      <th></th>\n",
       "      <th></th>\n",
       "      <th></th>\n",
       "      <th></th>\n",
       "      <th></th>\n",
       "      <th></th>\n",
       "      <th></th>\n",
       "      <th></th>\n",
       "      <th></th>\n",
       "      <th></th>\n",
       "      <th></th>\n",
       "    </tr>\n",
       "  </thead>\n",
       "  <tbody>\n",
       "    <tr>\n",
       "      <th>8</th>\n",
       "      <td>2.0</td>\n",
       "      <td>0.8927 (± 0.0051)</td>\n",
       "      <td>0.6073 (± 0.0021)</td>\n",
       "      <td>0.6232 (± 0.004)</td>\n",
       "      <td>0.6073 (± 0.0021)</td>\n",
       "      <td>0.6059 (± 0.0023)</td>\n",
       "      <td>0.6073 (± 0.0021)</td>\n",
       "      <td>0.6073 (± 0.0021)</td>\n",
       "      <td>0.6073 (± 0.0021)</td>\n",
       "      <td>NaN</td>\n",
       "      <td>0.4171 (± 0.0032)</td>\n",
       "      <td>1.0579 (± 0.0149)</td>\n",
       "      <td>832.1198 (± 11.9669)</td>\n",
       "      <td>26.4884 (± 0.3798)</td>\n",
       "    </tr>\n",
       "    <tr>\n",
       "      <th>35</th>\n",
       "      <td>2.0</td>\n",
       "      <td>0.8259 (± 0.0085)</td>\n",
       "      <td>0.6257 (± 0.0058)</td>\n",
       "      <td>0.6464 (± 0.0048)</td>\n",
       "      <td>0.6257 (± 0.0058)</td>\n",
       "      <td>0.6257 (± 0.0057)</td>\n",
       "      <td>0.6257 (± 0.0058)</td>\n",
       "      <td>0.6257 (± 0.0058)</td>\n",
       "      <td>0.6257 (± 0.0058)</td>\n",
       "      <td>NaN</td>\n",
       "      <td>0.4462 (± 0.008)</td>\n",
       "      <td>1.8451 (± 0.0792)</td>\n",
       "      <td>480.176 (± 20.1902)</td>\n",
       "      <td>15.2852 (± 0.6429)</td>\n",
       "    </tr>\n",
       "    <tr>\n",
       "      <th>150</th>\n",
       "      <td>2.0</td>\n",
       "      <td>0.7704 (± 0.0061)</td>\n",
       "      <td>0.6583 (± 0.0046)</td>\n",
       "      <td>0.6729 (± 0.0032)</td>\n",
       "      <td>0.6583 (± 0.0046)</td>\n",
       "      <td>0.6583 (± 0.0049)</td>\n",
       "      <td>0.6583 (± 0.0046)</td>\n",
       "      <td>0.6583 (± 0.0046)</td>\n",
       "      <td>0.6583 (± 0.0046)</td>\n",
       "      <td>NaN</td>\n",
       "      <td>0.4932 (± 0.0052)</td>\n",
       "      <td>4.1901 (± 0.1079)</td>\n",
       "      <td>210.5028 (± 5.6069)</td>\n",
       "      <td>6.7006 (± 0.1779)</td>\n",
       "    </tr>\n",
       "    <tr>\n",
       "      <th>350</th>\n",
       "      <td>2.0</td>\n",
       "      <td>0.7237 (± 0.004)</td>\n",
       "      <td>0.6762 (± 0.0022)</td>\n",
       "      <td>0.6847 (± 0.0031)</td>\n",
       "      <td>0.6762 (± 0.0021)</td>\n",
       "      <td>0.6768 (± 0.0027)</td>\n",
       "      <td>0.6762 (± 0.0022)</td>\n",
       "      <td>0.6762 (± 0.0022)</td>\n",
       "      <td>0.6762 (± 0.0022)</td>\n",
       "      <td>NaN</td>\n",
       "      <td>0.5172 (± 0.0028)</td>\n",
       "      <td>5.266 (± 0.0207)</td>\n",
       "      <td>167.0464 (± 0.7006)</td>\n",
       "      <td>5.3172 (± 0.0209)</td>\n",
       "    </tr>\n",
       "    <tr>\n",
       "      <th>650</th>\n",
       "      <td>2.0</td>\n",
       "      <td>0.7497 (± 0.0083)</td>\n",
       "      <td>0.6612 (± 0.0072)</td>\n",
       "      <td>0.6635 (± 0.0089)</td>\n",
       "      <td>0.6612 (± 0.0072)</td>\n",
       "      <td>0.6617 (± 0.0079)</td>\n",
       "      <td>0.6612 (± 0.0072)</td>\n",
       "      <td>0.6612 (± 0.0072)</td>\n",
       "      <td>0.6612 (± 0.0072)</td>\n",
       "      <td>NaN</td>\n",
       "      <td>0.4923 (± 0.0109)</td>\n",
       "      <td>8.2329 (± 0.0412)</td>\n",
       "      <td>106.8508 (± 0.55)</td>\n",
       "      <td>3.4014 (± 0.0171)</td>\n",
       "    </tr>\n",
       "  </tbody>\n",
       "</table>\n",
       "</div>"
      ],
      "text/plain": [
       "            itr          test_loss      test_accuracy test_macro-precision  \\\n",
       "model_size                                                                   \n",
       "8           2.0  0.8927 (± 0.0051)  0.6073 (± 0.0021)     0.6232 (± 0.004)   \n",
       "35          2.0  0.8259 (± 0.0085)  0.6257 (± 0.0058)    0.6464 (± 0.0048)   \n",
       "150         2.0  0.7704 (± 0.0061)  0.6583 (± 0.0046)    0.6729 (± 0.0032)   \n",
       "350         2.0   0.7237 (± 0.004)  0.6762 (± 0.0022)    0.6847 (± 0.0031)   \n",
       "650         2.0  0.7497 (± 0.0083)  0.6612 (± 0.0072)    0.6635 (± 0.0089)   \n",
       "\n",
       "            test_macro-recall      test_macro-f1 test_micro-precision  \\\n",
       "model_size                                                              \n",
       "8           0.6073 (± 0.0021)  0.6059 (± 0.0023)    0.6073 (± 0.0021)   \n",
       "35          0.6257 (± 0.0058)  0.6257 (± 0.0057)    0.6257 (± 0.0058)   \n",
       "150         0.6583 (± 0.0046)  0.6583 (± 0.0049)    0.6583 (± 0.0046)   \n",
       "350         0.6762 (± 0.0021)  0.6768 (± 0.0027)    0.6762 (± 0.0022)   \n",
       "650         0.6612 (± 0.0072)  0.6617 (± 0.0079)    0.6612 (± 0.0072)   \n",
       "\n",
       "            test_micro-recall      test_micro-f1  mcc           test_mcc  \\\n",
       "model_size                                                                 \n",
       "8           0.6073 (± 0.0021)  0.6073 (± 0.0021)  NaN  0.4171 (± 0.0032)   \n",
       "35          0.6257 (± 0.0058)  0.6257 (± 0.0058)  NaN   0.4462 (± 0.008)   \n",
       "150         0.6583 (± 0.0046)  0.6583 (± 0.0046)  NaN  0.4932 (± 0.0052)   \n",
       "350         0.6762 (± 0.0022)  0.6762 (± 0.0022)  NaN  0.5172 (± 0.0028)   \n",
       "650         0.6612 (± 0.0072)  0.6612 (± 0.0072)  NaN  0.4923 (± 0.0109)   \n",
       "\n",
       "                 test_runtime test_samples_per_second test_steps_per_second  \n",
       "model_size                                                                   \n",
       "8           1.0579 (± 0.0149)    832.1198 (± 11.9669)    26.4884 (± 0.3798)  \n",
       "35          1.8451 (± 0.0792)     480.176 (± 20.1902)    15.2852 (± 0.6429)  \n",
       "150         4.1901 (± 0.1079)     210.5028 (± 5.6069)     6.7006 (± 0.1779)  \n",
       "350          5.266 (± 0.0207)     167.0464 (± 0.7006)     5.3172 (± 0.0209)  \n",
       "650         8.2329 (± 0.0412)       106.8508 (± 0.55)     3.4014 (± 0.0171)  "
      ]
     },
     "execution_count": 5,
     "metadata": {},
     "output_type": "execute_result"
    }
   ],
   "source": [
    "summary.xs(\"F\", level=\"dataset\")"
   ]
  },
  {
   "cell_type": "markdown",
   "id": "20a5d657-e696-4bc1-b184-551e638b8114",
   "metadata": {},
   "source": [
    "## inference for confusion matrix"
   ]
  },
  {
   "cell_type": "code",
   "execution_count": null,
   "id": "5ebc907e-2b73-40e2-a31e-8637a0f2cf1e",
   "metadata": {},
   "outputs": [],
   "source": [
    "device = torch.device('cuda' if torch.cuda.is_available() else 'cpu')\n",
    "device"
   ]
  },
  {
   "cell_type": "code",
   "execution_count": null,
   "id": "35ae0b1d-a6cc-4bdb-941e-12c09b6abb35",
   "metadata": {},
   "outputs": [],
   "source": [
    "# models and corresponding test data\n",
    "class_dict = {\n",
    "    n: {\n",
    "        \"models\": {\n",
    "            \"350M-F\": f\"/home/jovyan/shared/mahdi/1_projects/model_optimization/07HDvsFluvsCov/350M_full/models/350M_full_HD-Flu-CoV_itr-{n}_2025-02-19\",\n",
    "        },\n",
    "        \"data\": f\"../data/5_folded/hd-0_flu-1_cov-2_test{n}.csv\"\n",
    "    }\n",
    "for n in range(5)}"
   ]
  },
  {
   "cell_type": "code",
   "execution_count": null,
   "id": "791db5e6-9dd4-4031-90f6-de0ce55bf178",
   "metadata": {},
   "outputs": [],
   "source": [
    "# run inference on entire test set\n",
    "for i in tqdm(class_dict.keys()):\n",
    "\n",
    "    # load test data\n",
    "    test_data = pd.read_csv(class_dict[i][\"data\"])\n",
    "    test_preds = test_data.copy() # for storing prediction metrics\n",
    "    \n",
    "    class_labels = ClassLabel(names=['Healthy-Donor', 'Flu-specific', 'CoV-specific'])\n",
    "    n_classes = len(class_labels.names)\n",
    "    label2id = {'Healthy-Donor':0, 'Flu-specific':1, 'CoV-specific':2}\n",
    "    id2label = {0:'Healthy-Donor', 1:'Flu-specific', 2:'CoV-specific'}\n",
    "    \n",
    "    # make huggingface dataset\n",
    "    dataset = datasets.Dataset.from_pandas(test_data)\n",
    "    dataset = dataset.cast_column(\"label\", class_labels)\n",
    "    \n",
    "    # filter for length (model has max length of 320 from training)\n",
    "    def filter_long_sequences(item):\n",
    "        return (len(item['h_sequence'])+len(item['l_sequence'])) <= 315 # allows 4 tokens (start, sep (which is 2 tokens long), end)\n",
    "    filtered = dataset.filter(filter_long_sequences)\n",
    "    \n",
    "    # tokenizer\n",
    "    tokenizer = EsmTokenizer.from_pretrained(\"facebook/esm2_t30_150M_UR50D\")\n",
    "    \n",
    "    def preprocess_dataset(\n",
    "        batch, \n",
    "        tokenizer=None, \n",
    "        tokenizer_path=\"./tokenizer\", \n",
    "        separator=\"<cls><cls>\",\n",
    "        max_len=320\n",
    "    ) -> list:\n",
    "        \"\"\"\n",
    "        docstring\n",
    "        \"\"\"\n",
    "        # tokenize the H/L sequence pair\n",
    "        sequences = [h + separator + l for h, l in zip(batch[\"h_sequence\"], batch[\"l_sequence\"])]\n",
    "        tokenized = tokenizer(sequences, padding=\"max_length\", max_length=max_len)\n",
    "        batch[\"input_ids\"] = tokenized.input_ids\n",
    "        batch[\"attention_mask\"] = tokenized.attention_mask\n",
    "        \n",
    "        return batch\n",
    "    \n",
    "    # tokenize\n",
    "    tokenized_dataset = filtered.map(\n",
    "        preprocess_dataset,\n",
    "        fn_kwargs={\n",
    "            \"tokenizer\": tokenizer,\n",
    "            \"max_len\": 320,\n",
    "        },\n",
    "        batched=True,\n",
    "        remove_columns=[\"name\", \"h_sequence\", \"l_sequence\"]\n",
    "    )\n",
    "\n",
    "    # load each model\n",
    "    for model_id, model_path_str in class_dict[i][\"models\"].items():\n",
    "        print(f\"{i}: {model_id}\")\n",
    "        model = AutoModelForSequenceClassification.from_pretrained(model_path_str).to(device)\n",
    "    \n",
    "        # predict on test set and get metrics\n",
    "        trainer = Trainer(\n",
    "            model=model,\n",
    "            tokenizer=tokenizer,\n",
    "            args=TrainingArguments(output_dir=\"./\", \n",
    "                                   report_to=\"none\"), # to turn off wandb logging\n",
    "            eval_dataset=tokenized_dataset,\n",
    "        )\n",
    "        logits, labels, metrics = trainer.predict(tokenized_dataset)\n",
    "        probabilities = torch.softmax(torch.from_numpy(logits), dim=1).detach().numpy()[:, -1]\n",
    "        predictions = np.argmax(logits, axis=1)\n",
    "        \n",
    "        del model # free up memory\n",
    "        \n",
    "        # categorize predictions\n",
    "        pred_data = []\n",
    "        for pred, prob, label, logit in zip(predictions, probabilities, labels, logits):\n",
    "            if pred == label == 1:\n",
    "                category = \"true_positive\"\n",
    "            elif pred == label == 0:\n",
    "                category = \"true_negative\"\n",
    "            elif pred == 1 and label == 0:\n",
    "                category = \"false_positive\"\n",
    "            else:\n",
    "                category = \"false_negative\"\n",
    "            pred_data.append(\n",
    "                {\n",
    "                    # \"label\": label,\n",
    "                    f\"{model_id}_prediction\": pred,\n",
    "                    f\"{model_id}_probability\": prob,\n",
    "                    f\"{model_id}_category\": category,\n",
    "                    f\"{model_id}_logits\": logit,\n",
    "                }\n",
    "            )\n",
    "        pred_df = pd.DataFrame(pred_data)\n",
    "        \n",
    "        # store predictive performance with its corresponding sequence\n",
    "        test_preds = pd.concat([test_preds, pred_df], axis=1)\n",
    "    \n",
    "    # save as csv\n",
    "    save_path = f\"./results/all_predictions_itr{i}.csv\"\n",
    "    print(f\"saving to csv: {save_path} \\n-------------------\\n\\n\")\n",
    "    test_preds.to_csv(save_path, index=False)"
   ]
  },
  {
   "cell_type": "markdown",
   "id": "e2780c52-9e15-4b12-9afa-ba9097710e12",
   "metadata": {},
   "source": [
    "## plot confusion matrix"
   ]
  },
  {
   "cell_type": "code",
   "execution_count": 6,
   "id": "e6b63bd1-b567-40bf-8489-99cf2d9d8aec",
   "metadata": {},
   "outputs": [],
   "source": [
    "# dict to load test data with predictions\n",
    "preds = [f\"/home/jovyan/shared/mahdi/1_projects/model_optimization/07HDvsFluvsCov/KN_inference/results/all_predictions_itr{i}.csv\" for i in range(5)]\n",
    "\n",
    "def itr_col(path, itr):\n",
    "    df = pd.read_csv(path)\n",
    "    df[\"itr\"] = itr\n",
    "    return df\n",
    "\n",
    "all_preds = [itr_col(preds[itr], itr) for itr in range(len(preds))]\n",
    "all_preds = pd.concat(all_preds, ignore_index=True) \n",
    "\n",
    "# drop NaNs\n",
    "all_preds = all_preds[~all_preds[\"350M-F_prediction\"].isna()]"
   ]
  },
  {
   "cell_type": "code",
   "execution_count": 7,
   "id": "92b11ef3-5bc9-4e74-9338-893a452ad9af",
   "metadata": {},
   "outputs": [
    {
     "data": {
      "image/png": "[encoded data removed]",
      "text/plain": [
       "<Figure size 640x480 with 2 Axes>"
      ]
     },
     "metadata": {},
     "output_type": "display_data"
    }
   ],
   "source": [
    "# reorder columns\n",
    "all_preds[\"reordered_label\"] = all_preds[\"label\"].map({0:2, 1:1, 2:0})\n",
    "all_preds[\"reordered_pred\"] = all_preds[\"350M-F_prediction\"].map({0:2, 1:1, 2:0})\n",
    "\n",
    "cm = confusion_matrix(\n",
    "    all_preds[\"reordered_label\"], \n",
    "    all_preds[\"reordered_pred\"]\n",
    ")\n",
    "\n",
    "\n",
    "sns.heatmap(\n",
    "    cm, annot=True, fmt=\"d\",\n",
    "    cmap=sns.light_palette(\n",
    "        \"#176D9C\",\n",
    "        as_cmap=True\n",
    "    ),\n",
    "    vmin=0, vmax=cm.max()\n",
    ")\n",
    "\n",
    "plt.xlabel(\"Predicted Label\", fontsize=12)\n",
    "plt.xticks([0.5,1.5,2.5], \n",
    "            ['CoV-specific', 'Influenza-specific', 'Healthy Donor'],\n",
    "            rotation=\"horizontal\", \n",
    "            fontsize=10)\n",
    "plt.ylabel(\"True Label\", fontsize=12)\n",
    "plt.yticks([0.5,1.5,2.5], \n",
    "            ['CoV-specific', 'Influenza-specific', 'Healthy Donor'],\n",
    "            rotation=\"vertical\", \n",
    "            fontsize=10)\n",
    "\n",
    "plt.savefig(\"multiclass_conf-matrix.pdf\", bbox_inches='tight', dpi=300)"
   ]
  },
  {
   "cell_type": "code",
   "execution_count": null,
   "id": "0eb80fcd",
   "metadata": {},
   "outputs": [],
   "source": []
  }
 ],
 "metadata": {
  "kernelspec": {
   "display_name": "base",
   "language": "python",
   "name": "python3"
  },
  "language_info": {
   "codemirror_mode": {
    "name": "ipython",
    "version": 3
   },
   "file_extension": ".py",
   "mimetype": "text/x-python",
   "name": "python",
   "nbconvert_exporter": "python",
   "pygments_lexer": "ipython3",
   "version": "3.11.10"
  }
 },
 "nbformat": 4,
 "nbformat_minor": 5
}

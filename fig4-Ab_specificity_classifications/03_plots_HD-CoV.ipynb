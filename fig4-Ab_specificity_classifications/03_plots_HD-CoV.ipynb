{
 "cells": [
  {
   "cell_type": "markdown",
   "id": "7fb9ca20-7e71-42af-8c6e-101015829928",
   "metadata": {},
   "source": [
    "# CoV vs HD Classification"
   ]
  },
  {
   "cell_type": "code",
   "execution_count": 4,
   "id": "3379dc9d-e83a-4644-b674-a16632c75503",
   "metadata": {},
   "outputs": [],
   "source": [
    "import pandas as pd\n",
    "import glob\n",
    "import seaborn as sns\n",
    "import matplotlib.pyplot as plt"
   ]
  },
  {
   "cell_type": "markdown",
   "id": "a892f7af-2427-430a-acef-a5bbcdb2bcb6",
   "metadata": {},
   "source": [
    "## load results"
   ]
  },
  {
   "cell_type": "code",
   "execution_count": 5,
   "id": "c0fafa0f-e3d9-4ed0-a9dc-f3ca2f90410a",
   "metadata": {},
   "outputs": [
    {
     "data": {
      "text/plain": [
       "15"
      ]
     },
     "execution_count": 5,
     "metadata": {},
     "output_type": "execute_result"
    }
   ],
   "source": [
    "path = \"/home/jovyan/shared/mahdi/1_projects/model_optimization/02classification/results/*.csv\"\n",
    "files = glob.glob(path)\n",
    "len(files)"
   ]
  },
  {
   "cell_type": "code",
   "execution_count": 6,
   "id": "25eb7b4a-8cb5-40a4-a048-80ef2c05b3e0",
   "metadata": {},
   "outputs": [],
   "source": [
    "dataset_map = {\n",
    "    'full': 'F',\n",
    "    'half': 'H',\n",
    "    'quarter': 'Q'\n",
    "}\n",
    "def combine_stats(list_of_paths):\n",
    "    # read all results files and combine\n",
    "    df = pd.concat([pd.read_csv(path) for path in list_of_paths]).reset_index(drop=True)\n",
    "\n",
    "    df['dataset'] = df['model'].str.split('_').str[2].map(dataset_map)\n",
    "    df['model_size'] = df['model'].str.split('_').str[1].str.replace('M', '').astype(int)\n",
    "\n",
    "    # get means and errors\n",
    "    means = df.groupby([\"model_size\", \"dataset\"]).mean(numeric_only=True)\n",
    "    sem = df.groupby([\"model_size\", \"dataset\"]).sem(numeric_only=True)\n",
    "\n",
    "    # combine in a readable table format\n",
    "    combined = means.copy()\n",
    "    for i in means.index:\n",
    "        for j in [col for col in means.columns if \"test\" in col]:\n",
    "            combined.loc[i,j] = f\"{str(round(means.loc[i,j], 4))} (\\xB1 {str(round(sem.loc[i,j], 4))})\"\n",
    "\n",
    "    return df, combined"
   ]
  },
  {
   "cell_type": "code",
   "execution_count": 7,
   "id": "839e5b79-8451-4296-8279-ffeee890b245",
   "metadata": {},
   "outputs": [],
   "source": [
    "full_df, summary = combine_stats(files)"
   ]
  },
  {
   "cell_type": "markdown",
   "id": "b727d883-ed69-473e-bf6c-61cc59f1e64e",
   "metadata": {},
   "source": [
    "## summary of Dataset-F results"
   ]
  },
  {
   "cell_type": "code",
   "execution_count": 8,
   "id": "ea8f4118-ceb1-4fe3-b7bd-6f27924b2b75",
   "metadata": {},
   "outputs": [
    {
     "data": {
      "application/vnd.microsoft.datawrangler.viewer.v0+json": {
       "columns": [
        {
         "name": "model_size",
         "rawType": "int64",
         "type": "integer"
        },
        {
         "name": "itr",
         "rawType": "float64",
         "type": "float"
        },
        {
         "name": "test_loss",
         "rawType": "object",
         "type": "string"
        },
        {
         "name": "test_accuracy",
         "rawType": "object",
         "type": "string"
        },
        {
         "name": "test_precision",
         "rawType": "object",
         "type": "string"
        },
        {
         "name": "test_recall",
         "rawType": "object",
         "type": "string"
        },
        {
         "name": "test_f1",
         "rawType": "object",
         "type": "string"
        },
        {
         "name": "test_auc",
         "rawType": "object",
         "type": "string"
        },
        {
         "name": "test_aupr",
         "rawType": "object",
         "type": "string"
        },
        {
         "name": "test_mcc",
         "rawType": "object",
         "type": "string"
        }
       ],
       "ref": "15c7d347-5afb-4a04-90e6-915fb190900b",
       "rows": [
        [
         "8",
         "2.0",
         "0.6037 (± 0.0017)",
         "0.6762 (± 0.0037)",
         "0.6544 (± 0.0035)",
         "0.7468 (± 0.0042)",
         "0.6975 (± 0.0034)",
         "0.7424 (± 0.0029)",
         "0.7334 (± 0.0035)",
         "0.356 (± 0.0074)"
        ],
        [
         "35",
         "2.0",
         "0.5913 (± 0.0014)",
         "0.6877 (± 0.0026)",
         "0.6745 (± 0.0026)",
         "0.7259 (± 0.0053)",
         "0.6992 (± 0.0029)",
         "0.7542 (± 0.0024)",
         "0.7495 (± 0.0026)",
         "0.3766 (± 0.0052)"
        ],
        [
         "150",
         "2.0",
         "0.5788 (± 0.0009)",
         "0.7 (± 0.0014)",
         "0.687 (± 0.0012)",
         "0.7346 (± 0.0044)",
         "0.71 (± 0.002)",
         "0.768 (± 0.0013)",
         "0.7668 (± 0.002)",
         "0.401 (± 0.0028)"
        ],
        [
         "350",
         "2.0",
         "0.559 (± 0.002)",
         "0.7152 (± 0.0026)",
         "0.7194 (± 0.0026)",
         "0.706 (± 0.01)",
         "0.7124 (± 0.0045)",
         "0.7858 (± 0.0019)",
         "0.7877 (± 0.0022)",
         "0.4307 (± 0.005)"
        ],
        [
         "650",
         "2.0",
         "0.5643 (± 0.0013)",
         "0.7089 (± 0.0013)",
         "0.6993 (± 0.0036)",
         "0.7336 (± 0.0096)",
         "0.7158 (± 0.003)",
         "0.7814 (± 0.0013)",
         "0.7858 (± 0.0022)",
         "0.4186 (± 0.0026)"
        ]
       ],
       "shape": {
        "columns": 9,
        "rows": 5
       }
      },
      "text/html": [
       "<div>\n",
       "<style scoped>\n",
       "    .dataframe tbody tr th:only-of-type {\n",
       "        vertical-align: middle;\n",
       "    }\n",
       "\n",
       "    .dataframe tbody tr th {\n",
       "        vertical-align: top;\n",
       "    }\n",
       "\n",
       "    .dataframe thead th {\n",
       "        text-align: right;\n",
       "    }\n",
       "</style>\n",
       "<table border=\"1\" class=\"dataframe\">\n",
       "  <thead>\n",
       "    <tr style=\"text-align: right;\">\n",
       "      <th></th>\n",
       "      <th>itr</th>\n",
       "      <th>test_loss</th>\n",
       "      <th>test_accuracy</th>\n",
       "      <th>test_precision</th>\n",
       "      <th>test_recall</th>\n",
       "      <th>test_f1</th>\n",
       "      <th>test_auc</th>\n",
       "      <th>test_aupr</th>\n",
       "      <th>test_mcc</th>\n",
       "    </tr>\n",
       "    <tr>\n",
       "      <th>model_size</th>\n",
       "      <th></th>\n",
       "      <th></th>\n",
       "      <th></th>\n",
       "      <th></th>\n",
       "      <th></th>\n",
       "      <th></th>\n",
       "      <th></th>\n",
       "      <th></th>\n",
       "      <th></th>\n",
       "    </tr>\n",
       "  </thead>\n",
       "  <tbody>\n",
       "    <tr>\n",
       "      <th>8</th>\n",
       "      <td>2.0</td>\n",
       "      <td>0.6037 (± 0.0017)</td>\n",
       "      <td>0.6762 (± 0.0037)</td>\n",
       "      <td>0.6544 (± 0.0035)</td>\n",
       "      <td>0.7468 (± 0.0042)</td>\n",
       "      <td>0.6975 (± 0.0034)</td>\n",
       "      <td>0.7424 (± 0.0029)</td>\n",
       "      <td>0.7334 (± 0.0035)</td>\n",
       "      <td>0.356 (± 0.0074)</td>\n",
       "    </tr>\n",
       "    <tr>\n",
       "      <th>35</th>\n",
       "      <td>2.0</td>\n",
       "      <td>0.5913 (± 0.0014)</td>\n",
       "      <td>0.6877 (± 0.0026)</td>\n",
       "      <td>0.6745 (± 0.0026)</td>\n",
       "      <td>0.7259 (± 0.0053)</td>\n",
       "      <td>0.6992 (± 0.0029)</td>\n",
       "      <td>0.7542 (± 0.0024)</td>\n",
       "      <td>0.7495 (± 0.0026)</td>\n",
       "      <td>0.3766 (± 0.0052)</td>\n",
       "    </tr>\n",
       "    <tr>\n",
       "      <th>150</th>\n",
       "      <td>2.0</td>\n",
       "      <td>0.5788 (± 0.0009)</td>\n",
       "      <td>0.7 (± 0.0014)</td>\n",
       "      <td>0.687 (± 0.0012)</td>\n",
       "      <td>0.7346 (± 0.0044)</td>\n",
       "      <td>0.71 (± 0.002)</td>\n",
       "      <td>0.768 (± 0.0013)</td>\n",
       "      <td>0.7668 (± 0.002)</td>\n",
       "      <td>0.401 (± 0.0028)</td>\n",
       "    </tr>\n",
       "    <tr>\n",
       "      <th>350</th>\n",
       "      <td>2.0</td>\n",
       "      <td>0.559 (± 0.002)</td>\n",
       "      <td>0.7152 (± 0.0026)</td>\n",
       "      <td>0.7194 (± 0.0026)</td>\n",
       "      <td>0.706 (± 0.01)</td>\n",
       "      <td>0.7124 (± 0.0045)</td>\n",
       "      <td>0.7858 (± 0.0019)</td>\n",
       "      <td>0.7877 (± 0.0022)</td>\n",
       "      <td>0.4307 (± 0.005)</td>\n",
       "    </tr>\n",
       "    <tr>\n",
       "      <th>650</th>\n",
       "      <td>2.0</td>\n",
       "      <td>0.5643 (± 0.0013)</td>\n",
       "      <td>0.7089 (± 0.0013)</td>\n",
       "      <td>0.6993 (± 0.0036)</td>\n",
       "      <td>0.7336 (± 0.0096)</td>\n",
       "      <td>0.7158 (± 0.003)</td>\n",
       "      <td>0.7814 (± 0.0013)</td>\n",
       "      <td>0.7858 (± 0.0022)</td>\n",
       "      <td>0.4186 (± 0.0026)</td>\n",
       "    </tr>\n",
       "  </tbody>\n",
       "</table>\n",
       "</div>"
      ],
      "text/plain": [
       "            itr          test_loss      test_accuracy     test_precision  \\\n",
       "model_size                                                                 \n",
       "8           2.0  0.6037 (± 0.0017)  0.6762 (± 0.0037)  0.6544 (± 0.0035)   \n",
       "35          2.0  0.5913 (± 0.0014)  0.6877 (± 0.0026)  0.6745 (± 0.0026)   \n",
       "150         2.0  0.5788 (± 0.0009)     0.7 (± 0.0014)   0.687 (± 0.0012)   \n",
       "350         2.0    0.559 (± 0.002)  0.7152 (± 0.0026)  0.7194 (± 0.0026)   \n",
       "650         2.0  0.5643 (± 0.0013)  0.7089 (± 0.0013)  0.6993 (± 0.0036)   \n",
       "\n",
       "                  test_recall            test_f1           test_auc  \\\n",
       "model_size                                                            \n",
       "8           0.7468 (± 0.0042)  0.6975 (± 0.0034)  0.7424 (± 0.0029)   \n",
       "35          0.7259 (± 0.0053)  0.6992 (± 0.0029)  0.7542 (± 0.0024)   \n",
       "150         0.7346 (± 0.0044)     0.71 (± 0.002)   0.768 (± 0.0013)   \n",
       "350            0.706 (± 0.01)  0.7124 (± 0.0045)  0.7858 (± 0.0019)   \n",
       "650         0.7336 (± 0.0096)   0.7158 (± 0.003)  0.7814 (± 0.0013)   \n",
       "\n",
       "                    test_aupr           test_mcc  \n",
       "model_size                                        \n",
       "8           0.7334 (± 0.0035)   0.356 (± 0.0074)  \n",
       "35          0.7495 (± 0.0026)  0.3766 (± 0.0052)  \n",
       "150          0.7668 (± 0.002)   0.401 (± 0.0028)  \n",
       "350         0.7877 (± 0.0022)   0.4307 (± 0.005)  \n",
       "650         0.7858 (± 0.0022)  0.4186 (± 0.0026)  "
      ]
     },
     "execution_count": 8,
     "metadata": {},
     "output_type": "execute_result"
    }
   ],
   "source": [
    "summary.xs(\"F\", level=\"dataset\")"
   ]
  },
  {
   "cell_type": "markdown",
   "id": "b2c2409e-c686-4f2e-9ede-f30153134552",
   "metadata": {},
   "source": [
    "## plot HD vs CoV accuracy"
   ]
  },
  {
   "cell_type": "code",
   "execution_count": 9,
   "id": "4d39a3d5-14d8-4530-86f7-ce5c5899d7ab",
   "metadata": {},
   "outputs": [],
   "source": [
    "# order x axis\n",
    "xticks = [8, 35, 150, 350, 650]\n",
    "full_df[\"model_size\"] = pd.Categorical(\n",
    "    full_df[\"model_size\"], categories=xticks, ordered=True\n",
    ")"
   ]
  },
  {
   "cell_type": "code",
   "execution_count": 10,
   "id": "95325dea-49cb-4746-a222-867601f6e3e8",
   "metadata": {},
   "outputs": [],
   "source": [
    "# order for legend\n",
    "data_order = dataset_map.values()\n",
    "full_df[\"dataset\"] = pd.Categorical(\n",
    "    full_df[\"dataset\"], categories=data_order, ordered=True\n",
    ")"
   ]
  },
  {
   "cell_type": "code",
   "execution_count": 11,
   "id": "5999ee02-0a1f-45c1-99f8-b10d2ed01364",
   "metadata": {},
   "outputs": [],
   "source": [
    "pallete = sns.color_palette(\"colorblind\", n_colors=3)\n",
    "palette_dict = {\n",
    "    'F': pallete[0],\n",
    "    'H': pallete[1],\n",
    "    'Q': pallete[2]\n",
    "}"
   ]
  },
  {
   "cell_type": "code",
   "execution_count": null,
   "id": "478c3703-273e-41e9-b7ca-425ae8823246",
   "metadata": {},
   "outputs": [
    {
     "data": {
      "image/png": "[encoded data removed]",
      "text/plain": [
       "<Figure size 800x500 with 1 Axes>"
      ]
     },
     "metadata": {},
     "output_type": "display_data"
    }
   ],
   "source": [
    "plt.figure(figsize=[8,5])\n",
    "\n",
    "sns.lineplot(\n",
    "    data=full_df, \n",
    "    x=\"model_size\", \n",
    "    y=\"test_accuracy\", \n",
    "    hue=\"dataset\", \n",
    "    palette=palette_dict, \n",
    "    markers=True, \n",
    "    lw=2.5, \n",
    "    marker=\"o\", \n",
    "    ms=8,\n",
    "    errorbar=\"se\",\n",
    "    err_style=\"bars\",\n",
    ")\n",
    "\n",
    "ax = plt.gca()\n",
    "\n",
    "xtick_labels = [\"8M  \", \"  35M\", \"150M\", \"350M\", \"650M\"]\n",
    "ax.set_xticks(xticks, xtick_labels)\n",
    "ax.tick_params(axis=\"both\", labelsize=\"12\")\n",
    "\n",
    "ax.set_xlabel(\"Model Size (Parameters)\", fontsize=14)\n",
    "ax.set_ylabel(\"Average Accuracy\", fontsize=14)\n",
    "\n",
    "plt.legend(fontsize=11, title=\"Dataset\", title_fontsize=11, loc='upper left')\n",
    "\n",
    "# save\n",
    "plt.tight_layout()\n",
    "plt.savefig(\"./binary-classification_accuracy.pdf\", bbox_inches='tight', dpi=300)"
   ]
  },
  {
   "cell_type": "code",
   "execution_count": null,
   "id": "87c6622b",
   "metadata": {},
   "outputs": [],
   "source": []
  }
 ],
 "metadata": {
  "kernelspec": {
   "display_name": "base",
   "language": "python",
   "name": "python3"
  },
  "language_info": {
   "codemirror_mode": {
    "name": "ipython",
    "version": 3
   },
   "file_extension": ".py",
   "mimetype": "text/x-python",
   "name": "python",
   "nbconvert_exporter": "python",
   "pygments_lexer": "ipython3",
   "version": "3.11.10"
  }
 },
 "nbformat": 4,
 "nbformat_minor": 5
}

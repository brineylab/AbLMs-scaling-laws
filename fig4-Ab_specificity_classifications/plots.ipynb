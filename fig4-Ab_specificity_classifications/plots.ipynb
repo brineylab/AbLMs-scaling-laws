{
 "cells": [
  {
   "cell_type": "markdown",
   "metadata": {},
   "source": [
    "### Line plots for accuracy of binary classification"
   ]
  },
  {
   "cell_type": "code",
   "execution_count": null,
   "metadata": {},
   "outputs": [],
   "source": [
    "import numpy as np    \n",
    "import matplotlib.pyplot as plt    \n",
    "  \n",
    "# Model sizes in desired order    \n",
    "model_sizes = [\"8M\", \"35M\", \"150M\", \"350M\", \"650M\"]    \n",
    "  \n",
    "# Data sizes    \n",
    "data_sizes = [\"Full\", \"Half\", \"Quarter\"]    \n",
    "\n",
    "colors = [\"#0072B2\", \"#E69F00\", \"#009E73\"]  # Color-blind friendly palette    \n",
    "  \n",
    "# Test Accuracy values and standard errors- borrowed from the output of running HD_vs_CoV.py and saved info in results folder    \n",
    "data = {    \n",
    "    \"Full\": {    \n",
    "        \"8M\": (0.6762, 0.0034), \"35M\": (0.6877, 0.0026), \"150M\": (0.7, 0.0014), \"350M\": (0.71522, 0.00257), \"650M\": (0.7089, 0.0013)    \n",
    "    },    \n",
    "    \"Half\": {    \n",
    "        \"8M\": (0.6732, 0.0035), \"35M\": (0.6869, 0.0028), \"150M\": (0.6974, 0.0036), \"350M\": (0.7042, 0.0023), \"650M\": (0.699, 0.00343)    \n",
    "    },    \n",
    "    \"Quarter\": {    \n",
    "        \"8M\": (0.674, 0.0034), \"35M\": (0.682, 0.0023), \"150M\": (0.6884, 0.0042), \"350M\": (0.69445, 0.00208), \"650M\": (0.6909, 0.0029)    \n",
    "    }    \n",
    "}    \n",
    "  \n",
    "# Plot    \n",
    "plt.figure(figsize=(12, 6))  # Increase figure size for better visibility  \n",
    "for idx, (data_size, color) in enumerate(zip(data_sizes, colors)):    \n",
    "    accuracies = [data[data_size][size][0] for size in model_sizes]    \n",
    "    errors = [data[data_size][size][1] for size in model_sizes]    \n",
    "    plt.errorbar(model_sizes, accuracies, yerr=errors, fmt='-o', capsize=4, label=f\"{data_size}\", color=color)    \n",
    "  \n",
    "plt.xlabel(\"Model Size (Parameters)\")    \n",
    "plt.ylabel(\"Accuracy\")    \n",
    "plt.legend(title=\"Data Amount\")  # Add legend title  \n",
    "plt.grid(True, linestyle='--', alpha=0.6)    \n",
    "plt.tight_layout()  # Adjust layout to prevent clipping  \n",
    "plt.savefig(\"accuracy_plot.png\", dpi=300, bbox_inches='tight')  # Save with tight bounding box  \n",
    "plt.show()    "
   ]
  }
 ],
 "metadata": {
  "language_info": {
   "name": "python"
  }
 },
 "nbformat": 4,
 "nbformat_minor": 2
}

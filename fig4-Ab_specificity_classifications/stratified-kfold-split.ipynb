{
 "cells": [
  {
   "cell_type": "markdown",
   "metadata": {},
   "source": [
    "## This is the code to split data to k fold and make it ready for CoV classification"
   ]
  },
  {
   "cell_type": "markdown",
   "metadata": {},
   "source": [
    "### Binary Classification"
   ]
  },
  {
   "cell_type": "code",
   "execution_count": null,
   "metadata": {},
   "outputs": [],
   "source": [
    "import pandas as pd\n",
    "from sklearn.model_selection import StratifiedKFold"
   ]
  },
  {
   "cell_type": "code",
   "execution_count": null,
   "metadata": {},
   "outputs": [],
   "source": [
    "k = 5\n",
    "seed = 42"
   ]
  },
  {
   "cell_type": "code",
   "execution_count": null,
   "metadata": {},
   "outputs": [],
   "source": [
    "\n",
    "data = pd.read_csv(\"./data/classification/HD_vs_COV.csv\")\n",
    "skf = StratifiedKFold(n_splits=k, shuffle=True, random_state=seed)\n",
    "X = data.drop(\"label\", axis=1)\n",
    "y = data.loc[:, \"label\"].astype(\"int64\")"
   ]
  },
  {
   "cell_type": "code",
   "execution_count": null,
   "metadata": {},
   "outputs": [],
   "source": [
    "for i, (train_index, test_index) in enumerate(skf.split(X, y)):\n",
    "\n",
    "    # select data by each CV fold\n",
    "    train = data.loc[train_index].reset_index(drop=True)\n",
    "    test = data.loc[test_index].reset_index(drop=True)\n",
    "\n",
    "    print(len(train), len(test))\n",
    "    \n",
    "    # save\n",
    "    train.to_csv(f'./data/classification/5_folded/hd-0_cov-1_train{i}.csv', index=False)\n",
    "    test.to_csv(f'./data/classification/5_folded/hd-0_cov-1_test{i}.csv', index=False)"
   ]
  },
  {
   "cell_type": "markdown",
   "metadata": {},
   "source": [
    "### Three way classification"
   ]
  },
  {
   "cell_type": "code",
   "execution_count": null,
   "metadata": {},
   "outputs": [],
   "source": [
    "import pandas as pd\n",
    "from sklearn.model_selection import StratifiedKFold\n",
    "k = 5\n",
    "seed = 42"
   ]
  },
  {
   "cell_type": "code",
   "execution_count": null,
   "metadata": {},
   "outputs": [],
   "source": [
    "data = pd.read_csv(\"./data/07HDvsFluvsCov/hd-0_CoV-1_flu-2.csv\")"
   ]
  },
  {
   "cell_type": "code",
   "execution_count": null,
   "metadata": {},
   "outputs": [],
   "source": [
    "skf = StratifiedKFold(n_splits=k, shuffle=True, random_state=seed)\n",
    "X = data.drop(\"label\", axis=1)\n",
    "y = data.loc[:, \"label\"].astype(\"int64\")"
   ]
  },
  {
   "cell_type": "code",
   "execution_count": null,
   "metadata": {},
   "outputs": [],
   "source": [
    "for i, (train_index, test_index) in enumerate(skf.split(X, y)):\n",
    "\n",
    "    # select data by each CV fold\n",
    "    train = data.loc[train_index].reset_index(drop=True)\n",
    "    test = data.loc[test_index].reset_index(drop=True)\n",
    "\n",
    "    print(len(train), len(test))\n",
    "    \n",
    "    # save\n",
    "    train.to_csv(f'./data/07HDvsFluvsCov//5_folded/hd-0_flu-1_cov-2_train{i}.csv', index=False)\n",
    "    test.to_csv(f'./data/07HDvsFluvsCov/5_folded/hd-0_flu-1_cov-2_test{i}.csv', index=False)"
   ]
  },
  {
   "cell_type": "code",
   "execution_count": null,
   "metadata": {},
   "outputs": [],
   "source": []
  },
  {
   "cell_type": "code",
   "execution_count": null,
   "metadata": {},
   "outputs": [],
   "source": []
  },
  {
   "cell_type": "code",
   "execution_count": null,
   "metadata": {},
   "outputs": [],
   "source": []
  }
 ],
 "metadata": {
  "language_info": {
   "name": "python"
  }
 },
 "nbformat": 4,
 "nbformat_minor": 2
}

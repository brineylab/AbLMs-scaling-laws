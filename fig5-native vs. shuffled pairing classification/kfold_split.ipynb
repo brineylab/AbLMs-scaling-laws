{
 "cells": [
  {
   "cell_type": "code",
   "execution_count": null,
   "metadata": {},
   "outputs": [],
   "source": [
    "# filter out long sequences\n",
    "df_C = pd.read_csv(\"./data/paired_classification/shuffled_data.csv\")\n",
    "correct_length = df_C.apply(lambda x: len(x[\"h_sequence\"]) + len(x[\"l_sequence\"]) <= 315, axis=1)\n",
    "df_C.drop(index=correct_length[correct_length == False].index, inplace=True)\n",
    "print(len(df_C))"
   ]
  },
  {
   "cell_type": "code",
   "execution_count": null,
   "metadata": {},
   "outputs": [],
   "source": [
    "# returns lists of indices that are shuffled, stratified k-fold cv\n",
    "skf = StratifiedKFold(n_splits=k, shuffle=True, random_state=seed)\n",
    "X = df_C.drop(\"label\", axis=1)\n",
    "y = df_C.loc[:, \"label\"].astype(\"int64\")\n",
    "\n",
    "for i, (train_index, test_index) in enumerate(skf.split(X, y)):\n",
    "    print(f\"Fold {i}:\")\n",
    "\n",
    "    # select data by each CV fold\n",
    "    train = df_C.loc[train_index].sample(frac=1, random_state=seed)\n",
    "    test = df_C.loc[test_index].sample(frac=1, random_state=seed)\n",
    "\n",
    "    print(train[\"label\"].value_counts())\n",
    "    print(test[\"label\"].value_counts(), \"\\n\")\n",
    "\n",
    "    # reset index\n",
    "    train = train.reset_index(drop=True)\n",
    "    test = test.reset_index(drop=True)\n",
    "    \n",
    "    # save as csvs\n",
    "    train.to_csv(f'./data/paired_classification/train-test_splits/native-0_shuffled-1_train{i}.csv', index=False)\n",
    "    test.to_csv(f'./data/paired_classification/train-test_splits/native-0_shuffled-1_test{i}.csv', index=False)"
   ]
  }
 ],
 "metadata": {
  "language_info": {
   "name": "python"
  }
 },
 "nbformat": 4,
 "nbformat_minor": 2
}

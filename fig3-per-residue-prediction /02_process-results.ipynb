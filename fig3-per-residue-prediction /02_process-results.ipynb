{
 "cells": [
  {
   "cell_type": "code",
   "execution_count": null,
   "id": "0f7a5ef2-09b0-425a-8c02-e91b98cbc191",
   "metadata": {},
   "outputs": [],
   "source": [
    "import glob\n",
    "import pandas as pd\n",
    "import polars as pl\n",
    "import numpy as np\n",
    "import seaborn as sns\n",
    "import matplotlib.pyplot as plt\n",
    "from plots import pointplot\n",
    "from tqdm.notebook import tqdm"
   ]
  },
  {
   "cell_type": "markdown",
   "id": "fa4ee079-1dd8-49f4-96f5-33468e5abd40",
   "metadata": {},
   "source": [
    "## process mutated results"
   ]
  },
  {
   "cell_type": "code",
   "execution_count": null,
   "id": "7e9f27c9-d087-454a-a9bd-976a24e45936",
   "metadata": {},
   "outputs": [],
   "source": [
    "files = glob.glob('./results/mutated_per_pos_inference/results/*.parquet')\n",
    "files"
   ]
  },
  {
   "cell_type": "code",
   "execution_count": null,
   "id": "d894d3c7-a83f-47b0-8763-f97d08db864c",
   "metadata": {
    "scrolled": true
   },
   "outputs": [],
   "source": [
    "df = pd.concat([pd.read_parquet(f) for f in files])\n",
    "len(df)"
   ]
  },
  {
   "cell_type": "code",
   "execution_count": null,
   "id": "c10dfd0c-01e6-4ac0-83c9-8f06451758ee",
   "metadata": {},
   "outputs": [],
   "source": [
    "drop_columns = [\"antibody_datatype\", \"dataset_columns\", \"tokenized_sequence\"]\n",
    "df = df.drop(columns=drop_columns)"
   ]
  },
  {
   "cell_type": "code",
   "execution_count": null,
   "id": "6f3581b9-db88-449c-8c2a-7f5189879f97",
   "metadata": {},
   "outputs": [],
   "source": [
    "(df['sequence_id'].value_counts() == 5).all()"
   ]
  },
  {
   "cell_type": "markdown",
   "id": "fbaf218c-c887-44a7-9d37-a177d152a695",
   "metadata": {},
   "source": [
    "#### load original dataset for gene segment masks"
   ]
  },
  {
   "cell_type": "code",
   "execution_count": null,
   "id": "286e8cfb-b1d6-44f5-9f43-bfa9ae3c00aa",
   "metadata": {},
   "outputs": [],
   "source": [
    "keep = ['sequence_id', 'gene_segment_mask_aa_heavy', 'gene_segment_mask_aa_light']\n",
    "ref = pd.read_csv('./data/mutated_donors-combined.csv')[keep]"
   ]
  },
  {
   "cell_type": "code",
   "execution_count": null,
   "id": "26dbfcf0-6171-45ef-aa9b-b8aa9ed46489",
   "metadata": {},
   "outputs": [],
   "source": [
    "df = df.merge(ref, on='sequence_id')"
   ]
  },
  {
   "cell_type": "markdown",
   "id": "faa05532-c447-4fc9-9340-6a2252bbd944",
   "metadata": {},
   "source": [
    "#### convert to long format"
   ]
  },
  {
   "cell_type": "code",
   "execution_count": null,
   "id": "de6f5991-fc07-4312-b999-6764d29ced54",
   "metadata": {},
   "outputs": [],
   "source": [
    "long_data = []\n",
    "for ppi in tqdm(df.itertuples(index=False), total=df.shape[0]):\n",
    "    seq_pos = 0\n",
    "    hlen = len(ppi.sequence_aa_heavy)\n",
    "    model = ppi.model\n",
    "    donor = ppi.donor\n",
    "    sequence_id = ppi.sequence_id\n",
    "    sequence = ppi.sequence_aa_heavy + ppi.sequence_aa_light\n",
    "    tokenized = ppi.tokenized_seq_wo_special\n",
    "    losses = ppi.loss\n",
    "    perplexities = ppi.perplexity\n",
    "    probabilities = ppi.probabilities\n",
    "    predictions = ppi.prediction\n",
    "    prediction_tokens = ppi.prediction_tokens\n",
    "\n",
    "    cdr_mask = list(ppi.cdr_mask_aa_heavy + ppi.cdr_mask_aa_light)\n",
    "    gene_segment_mask = list(ppi.gene_segment_mask_aa_heavy + ppi.gene_segment_mask_aa_light)\n",
    "\n",
    "    for i in range(len(tokenized)):\n",
    "        tok = tokenized[i]\n",
    "        loss = losses[i]\n",
    "        ppl = perplexities[i]\n",
    "        prob = probabilities[i]\n",
    "        pred = predictions[i]\n",
    "        pred_tok = prediction_tokens[i]\n",
    "        res = sequence[seq_pos]\n",
    "        chain = \"H\" if seq_pos < hlen else \"L\"\n",
    "        d = {\n",
    "            \"sequence_id\": sequence_id,\n",
    "            \"model\": model,\n",
    "            \"donor\": donor,\n",
    "            \"position\": seq_pos,\n",
    "            \"chain\": chain,\n",
    "            \"label\": res,\n",
    "            \"label_token\": tok,\n",
    "            \"label_probability\": prob[tok],\n",
    "            \"accuracy\": float(res == pred),\n",
    "            \"predicted\": pred,\n",
    "            \"predicted_token\": pred_tok,\n",
    "            \"predicted_probability\": prob[pred_tok],\n",
    "            \"loss\": loss,\n",
    "            \"perplexity\": ppl,\n",
    "            \"cdr_mask\": cdr_mask[seq_pos],\n",
    "            \"gene_segment_mask\": gene_segment_mask[seq_pos],\n",
    "        }\n",
    "        long_data.append(d)\n",
    "        seq_pos += 1"
   ]
  },
  {
   "cell_type": "code",
   "execution_count": null,
   "id": "c7aebe12-42b4-4f55-a64a-9b19a3d7e501",
   "metadata": {},
   "outputs": [],
   "source": [
    "long_df = pl.DataFrame(long_data)"
   ]
  },
  {
   "cell_type": "code",
   "execution_count": null,
   "id": "3a5ace94-d815-4640-bbbb-1cd87609d8de",
   "metadata": {},
   "outputs": [],
   "source": [
    "long_df.write_parquet('./results/mutated_per_pos_inference/mutated_long-results.parquet')"
   ]
  },
  {
   "cell_type": "markdown",
   "id": "0da71a92-2dd9-4fdc-bb9b-084600a010ca",
   "metadata": {},
   "source": [
    "## process unmutated results"
   ]
  },
  {
   "cell_type": "code",
   "execution_count": null,
   "id": "d2f4d0fb-cced-4776-acba-43d102ac40a2",
   "metadata": {},
   "outputs": [],
   "source": [
    "files = glob.glob('./results/unmutated_per_pos_inference/results/*.parquet')\n",
    "files"
   ]
  },
  {
   "cell_type": "code",
   "execution_count": null,
   "id": "3bd66c45-481c-461d-ae89-a652b04e449b",
   "metadata": {
    "scrolled": true
   },
   "outputs": [],
   "source": [
    "df = pd.concat([pd.read_parquet(f) for f in files])\n",
    "len(df)"
   ]
  },
  {
   "cell_type": "code",
   "execution_count": null,
   "id": "b5d21076-80f1-4a7d-bee7-903bb69868d2",
   "metadata": {},
   "outputs": [],
   "source": [
    "drop_columns = [\"antibody_datatype\", \"dataset_columns\", \"tokenized_sequence\"]\n",
    "df = df.drop(columns=drop_columns)"
   ]
  },
  {
   "cell_type": "code",
   "execution_count": null,
   "id": "4d12d510-f25d-46eb-8089-1e3f8c990b96",
   "metadata": {},
   "outputs": [],
   "source": [
    "(df['sequence_id'].value_counts() == 5).all()"
   ]
  },
  {
   "cell_type": "markdown",
   "id": "d55a1b30-13f6-4231-8235-75874e83eb87",
   "metadata": {},
   "source": [
    "#### load original dataset for gene segment masks"
   ]
  },
  {
   "cell_type": "code",
   "execution_count": null,
   "id": "2ea95058-a617-42b0-a487-0f017a537f3c",
   "metadata": {},
   "outputs": [],
   "source": [
    "keep = ['sequence_id', 'gene_segment_mask_aa_heavy', 'gene_segment_mask_aa_light']\n",
    "ref = pd.read_csv('./data/unmutated_donors-combined.csv')[keep]"
   ]
  },
  {
   "cell_type": "code",
   "execution_count": null,
   "id": "8129ecd2-9572-4a99-9dc1-f1154b86c853",
   "metadata": {},
   "outputs": [],
   "source": [
    "df = df.merge(ref, on='sequence_id')"
   ]
  },
  {
   "cell_type": "markdown",
   "id": "ca6cfb89-a746-49a6-a675-8c0c3bf79be1",
   "metadata": {},
   "source": [
    "#### convert to long format"
   ]
  },
  {
   "cell_type": "code",
   "execution_count": null,
   "id": "98424881-fcac-4b50-9562-101f7bab77fc",
   "metadata": {},
   "outputs": [],
   "source": [
    "long_data = []\n",
    "for ppi in tqdm(df.itertuples(index=False), total=df.shape[0]):\n",
    "    seq_pos = 0\n",
    "    hlen = len(ppi.sequence_aa_heavy)\n",
    "    model = ppi.model\n",
    "    donor = ppi.donor\n",
    "    sequence_id = ppi.sequence_id\n",
    "    sequence = ppi.sequence_aa_heavy + ppi.sequence_aa_light\n",
    "    tokenized = ppi.tokenized_seq_wo_special\n",
    "    losses = ppi.loss\n",
    "    perplexities = ppi.perplexity\n",
    "    probabilities = ppi.probabilities\n",
    "    predictions = ppi.prediction\n",
    "    prediction_tokens = ppi.prediction_tokens\n",
    "\n",
    "    cdr_mask = list(ppi.cdr_mask_aa_heavy + ppi.cdr_mask_aa_light)\n",
    "    gene_segment_mask = list(ppi.gene_segment_mask_aa_heavy + ppi.gene_segment_mask_aa_light)\n",
    "\n",
    "    for i in range(len(tokenized)):\n",
    "        tok = tokenized[i]\n",
    "        loss = losses[i]\n",
    "        ppl = perplexities[i]\n",
    "        prob = probabilities[i]\n",
    "        pred = predictions[i]\n",
    "        pred_tok = prediction_tokens[i]\n",
    "        res = sequence[seq_pos]\n",
    "        chain = \"H\" if seq_pos < hlen else \"L\"\n",
    "        d = {\n",
    "            \"sequence_id\": sequence_id,\n",
    "            \"model\": model,\n",
    "            \"donor\": donor,\n",
    "            \"position\": seq_pos,\n",
    "            \"chain\": chain,\n",
    "            \"label\": res,\n",
    "            \"label_token\": tok,\n",
    "            \"label_probability\": prob[tok],\n",
    "            \"accuracy\": float(res == pred),\n",
    "            \"predicted\": pred,\n",
    "            \"predicted_token\": pred_tok,\n",
    "            \"predicted_probability\": prob[pred_tok],\n",
    "            \"loss\": loss,\n",
    "            \"perplexity\": ppl,\n",
    "            \"cdr_mask\": cdr_mask[seq_pos],\n",
    "            \"gene_segment_mask\": gene_segment_mask[seq_pos],\n",
    "        }\n",
    "        long_data.append(d)\n",
    "        seq_pos += 1"
   ]
  },
  {
   "cell_type": "code",
   "execution_count": null,
   "id": "7bc0efe8-c85c-4ad6-a6d1-79a3e57c5218",
   "metadata": {},
   "outputs": [],
   "source": [
    "long_df = pl.DataFrame(long_data)"
   ]
  },
  {
   "cell_type": "code",
   "execution_count": null,
   "id": "0c47b80f-2964-4b68-a499-09064448925a",
   "metadata": {},
   "outputs": [],
   "source": [
    "long_df.write_parquet('./results/unmutated_per_pos_inference/unmutated_long-results.parquet')"
   ]
  },
  {
   "cell_type": "code",
   "execution_count": null,
   "id": "d73562cc-eb0e-4b8b-bed5-24376685b1ed",
   "metadata": {},
   "outputs": [],
   "source": []
  }
 ],
 "metadata": {
  "kernelspec": {
   "display_name": "Python 3 (ipykernel)",
   "language": "python",
   "name": "python3"
  },
  "language_info": {
   "codemirror_mode": {
    "name": "ipython",
    "version": 3
   },
   "file_extension": ".py",
   "mimetype": "text/x-python",
   "name": "python",
   "nbconvert_exporter": "python",
   "pygments_lexer": "ipython3",
   "version": "3.11.10"
  }
 },
 "nbformat": 4,
 "nbformat_minor": 5
}
